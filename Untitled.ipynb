{
 "cells": [
  {
   "cell_type": "code",
   "execution_count": 10,
   "metadata": {
    "collapsed": false
   },
   "outputs": [],
   "source": [
    "library(NELSI)\n",
    "library(gdata)"
   ]
  },
  {
   "cell_type": "code",
   "execution_count": 11,
   "metadata": {
    "collapsed": true
   },
   "outputs": [],
   "source": [
    "read_dna <- function(raw_lines){\n",
    "    names <- grep('^>.+', raw_lines, value = T)\n",
    "    sequences <- tolower(gsub('U', 'T', raw_lines[!raw_lines %in% names]))\n",
    "    out_mat <- matrix(NA, length(names), nchar(sequences[1]))\n",
    "    for(i in 1:nrow(out_mat)){\n",
    "        out_mat[i, ] <- strsplit(sequences[i], '')[[1]]\n",
    "    }\n",
    "    rownames(out_mat) <- names\n",
    "    return(as.DNAbin(out_mat))\n",
    "    }"
   ]
  },
  {
   "cell_type": "code",
   "execution_count": 12,
   "metadata": {
    "collapsed": false
   },
   "outputs": [],
   "source": [
    "regression_files <- dir('ml_trees', pattern = '[.]csv')\n",
    "file_names <- read.xls('~/Dropbox/Super Cool 24 Hour Paper/Data sets.xlsx', stringsAsFactors = T)"
   ]
  },
  {
   "cell_type": "code",
   "execution_count": 13,
   "metadata": {
    "collapsed": false
   },
   "outputs": [
    {
     "data": {
      "text/html": [
       "<ol class=list-inline>\n",
       "\t<li>'rooted_Andesvirus.Brazil.csv'</li>\n",
       "\t<li>'rooted_Chikungunya.SouthEastAsia.csv'</li>\n",
       "\t<li>'rooted_Coronavirus229E.Ghana.csv'</li>\n",
       "\t<li>'rooted_CoxsackievirusA16.China.csv'</li>\n",
       "\t<li>'rooted_DENV1.SouthEastAsia.csv'</li>\n",
       "\t<li>'rooted_Ebola.Liberia.csv'</li>\n",
       "\t<li>'rooted_EnterovirusD68.Canada.csv'</li>\n",
       "\t<li>'rooted_EVA71.Vietnam.csv'</li>\n",
       "\t<li>'rooted_HepatitisCvirus.Scotland.csv'</li>\n",
       "\t<li>'rooted_HIV-1.Brazil.csv'</li>\n",
       "\t<li>'rooted_HPV16.Iran.csv'</li>\n",
       "\t<li>'rooted_HumanadenovirusC.Canada.csv'</li>\n",
       "\t<li>'rooted_Humancytomegalovirus.csv'</li>\n",
       "\t<li>'rooted_HumanparvovirusB19.Netherlands.csv'</li>\n",
       "\t<li>'rooted_Humanrespiratorysyncytialvirus.Germany.csv'</li>\n",
       "\t<li>'rooted_InfluenzaA.Australia.csv'</li>\n",
       "\t<li>'rooted_InfluenzaA.France.csv'</li>\n",
       "\t<li>'rooted_InfluenzaA.USA.csv'</li>\n",
       "\t<li>'rooted_InfluenzaB.Malaysia.csv'</li>\n",
       "\t<li>'rooted_Mamastrovirus1.Singapore.csv'</li>\n",
       "\t<li>'rooted_Measles.China.csv'</li>\n",
       "\t<li>'rooted_MERS.SaudiArabia.csv'</li>\n",
       "\t<li>'rooted_Norovirus.Vietnam.csv'</li>\n",
       "\t<li>'rooted_Puumalavirus.Germany.csv'</li>\n",
       "\t<li>'rooted_RhinovirusA.Egypt.csv'</li>\n",
       "\t<li>'rooted_RhinovirusA.Mongolia.csv'</li>\n",
       "\t<li>'rooted_RotavirusA.Brazil.csv'</li>\n",
       "\t<li>'rooted_Rubella.Japan.csv'</li>\n",
       "</ol>\n"
      ],
      "text/latex": [
       "\\begin{enumerate*}\n",
       "\\item 'rooted_Andesvirus.Brazil.csv'\n",
       "\\item 'rooted_Chikungunya.SouthEastAsia.csv'\n",
       "\\item 'rooted_Coronavirus229E.Ghana.csv'\n",
       "\\item 'rooted_CoxsackievirusA16.China.csv'\n",
       "\\item 'rooted_DENV1.SouthEastAsia.csv'\n",
       "\\item 'rooted_Ebola.Liberia.csv'\n",
       "\\item 'rooted_EnterovirusD68.Canada.csv'\n",
       "\\item 'rooted_EVA71.Vietnam.csv'\n",
       "\\item 'rooted_HepatitisCvirus.Scotland.csv'\n",
       "\\item 'rooted_HIV-1.Brazil.csv'\n",
       "\\item 'rooted_HPV16.Iran.csv'\n",
       "\\item 'rooted_HumanadenovirusC.Canada.csv'\n",
       "\\item 'rooted_Humancytomegalovirus.csv'\n",
       "\\item 'rooted_HumanparvovirusB19.Netherlands.csv'\n",
       "\\item 'rooted_Humanrespiratorysyncytialvirus.Germany.csv'\n",
       "\\item 'rooted_InfluenzaA.Australia.csv'\n",
       "\\item 'rooted_InfluenzaA.France.csv'\n",
       "\\item 'rooted_InfluenzaA.USA.csv'\n",
       "\\item 'rooted_InfluenzaB.Malaysia.csv'\n",
       "\\item 'rooted_Mamastrovirus1.Singapore.csv'\n",
       "\\item 'rooted_Measles.China.csv'\n",
       "\\item 'rooted_MERS.SaudiArabia.csv'\n",
       "\\item 'rooted_Norovirus.Vietnam.csv'\n",
       "\\item 'rooted_Puumalavirus.Germany.csv'\n",
       "\\item 'rooted_RhinovirusA.Egypt.csv'\n",
       "\\item 'rooted_RhinovirusA.Mongolia.csv'\n",
       "\\item 'rooted_RotavirusA.Brazil.csv'\n",
       "\\item 'rooted_Rubella.Japan.csv'\n",
       "\\end{enumerate*}\n"
      ],
      "text/markdown": [
       "1. 'rooted_Andesvirus.Brazil.csv'\n",
       "2. 'rooted_Chikungunya.SouthEastAsia.csv'\n",
       "3. 'rooted_Coronavirus229E.Ghana.csv'\n",
       "4. 'rooted_CoxsackievirusA16.China.csv'\n",
       "5. 'rooted_DENV1.SouthEastAsia.csv'\n",
       "6. 'rooted_Ebola.Liberia.csv'\n",
       "7. 'rooted_EnterovirusD68.Canada.csv'\n",
       "8. 'rooted_EVA71.Vietnam.csv'\n",
       "9. 'rooted_HepatitisCvirus.Scotland.csv'\n",
       "10. 'rooted_HIV-1.Brazil.csv'\n",
       "11. 'rooted_HPV16.Iran.csv'\n",
       "12. 'rooted_HumanadenovirusC.Canada.csv'\n",
       "13. 'rooted_Humancytomegalovirus.csv'\n",
       "14. 'rooted_HumanparvovirusB19.Netherlands.csv'\n",
       "15. 'rooted_Humanrespiratorysyncytialvirus.Germany.csv'\n",
       "16. 'rooted_InfluenzaA.Australia.csv'\n",
       "17. 'rooted_InfluenzaA.France.csv'\n",
       "18. 'rooted_InfluenzaA.USA.csv'\n",
       "19. 'rooted_InfluenzaB.Malaysia.csv'\n",
       "20. 'rooted_Mamastrovirus1.Singapore.csv'\n",
       "21. 'rooted_Measles.China.csv'\n",
       "22. 'rooted_MERS.SaudiArabia.csv'\n",
       "23. 'rooted_Norovirus.Vietnam.csv'\n",
       "24. 'rooted_Puumalavirus.Germany.csv'\n",
       "25. 'rooted_RhinovirusA.Egypt.csv'\n",
       "26. 'rooted_RhinovirusA.Mongolia.csv'\n",
       "27. 'rooted_RotavirusA.Brazil.csv'\n",
       "28. 'rooted_Rubella.Japan.csv'\n",
       "\n",
       "\n"
      ],
      "text/plain": [
       " [1] \"rooted_Andesvirus.Brazil.csv\"                     \n",
       " [2] \"rooted_Chikungunya.SouthEastAsia.csv\"             \n",
       " [3] \"rooted_Coronavirus229E.Ghana.csv\"                 \n",
       " [4] \"rooted_CoxsackievirusA16.China.csv\"               \n",
       " [5] \"rooted_DENV1.SouthEastAsia.csv\"                   \n",
       " [6] \"rooted_Ebola.Liberia.csv\"                         \n",
       " [7] \"rooted_EnterovirusD68.Canada.csv\"                 \n",
       " [8] \"rooted_EVA71.Vietnam.csv\"                         \n",
       " [9] \"rooted_HepatitisCvirus.Scotland.csv\"              \n",
       "[10] \"rooted_HIV-1.Brazil.csv\"                          \n",
       "[11] \"rooted_HPV16.Iran.csv\"                            \n",
       "[12] \"rooted_HumanadenovirusC.Canada.csv\"               \n",
       "[13] \"rooted_Humancytomegalovirus.csv\"                  \n",
       "[14] \"rooted_HumanparvovirusB19.Netherlands.csv\"        \n",
       "[15] \"rooted_Humanrespiratorysyncytialvirus.Germany.csv\"\n",
       "[16] \"rooted_InfluenzaA.Australia.csv\"                  \n",
       "[17] \"rooted_InfluenzaA.France.csv\"                     \n",
       "[18] \"rooted_InfluenzaA.USA.csv\"                        \n",
       "[19] \"rooted_InfluenzaB.Malaysia.csv\"                   \n",
       "[20] \"rooted_Mamastrovirus1.Singapore.csv\"              \n",
       "[21] \"rooted_Measles.China.csv\"                         \n",
       "[22] \"rooted_MERS.SaudiArabia.csv\"                      \n",
       "[23] \"rooted_Norovirus.Vietnam.csv\"                     \n",
       "[24] \"rooted_Puumalavirus.Germany.csv\"                  \n",
       "[25] \"rooted_RhinovirusA.Egypt.csv\"                     \n",
       "[26] \"rooted_RhinovirusA.Mongolia.csv\"                  \n",
       "[27] \"rooted_RotavirusA.Brazil.csv\"                     \n",
       "[28] \"rooted_Rubella.Japan.csv\"                         "
      ]
     },
     "execution_count": 13,
     "metadata": {},
     "output_type": "execute_result"
    }
   ],
   "source": [
    "regression_files"
   ]
  },
  {
   "cell_type": "code",
   "execution_count": 14,
   "metadata": {
    "collapsed": false
   },
   "outputs": [
    {
     "data": {
      "text/html": [
       "<table>\n",
       "<thead><tr><th></th><th scope=col>Virus.Species</th><th scope=col>Abbreviation</th><th scope=col>Sampling.Location</th><th scope=col>Genome</th><th scope=col>File_Name</th><th scope=col>infecton_type</th><th scope=col>clocklike</th><th scope=col>date_randomisation</th><th scope=col>rsquared</th><th scope=col>slopes</th></tr></thead>\n",
       "<tbody>\n",
       "\t<tr><th scope=row>1</th><td>Andes virus</td><td>ANDV</td><td>Brazil</td><td>RNA</td><td>Andesvirus.Brazil.csv</td><td>acute</td><td>TRUE</td><td>M</td><td>0</td><td>0</td></tr>\n",
       "\t<tr><th scope=row>2</th><td>Chikungunya virus</td><td>CV</td><td>South East Asia</td><td>RNA</td><td>Chikungunya.SouthEastAsia.csv</td><td>acute</td><td>FALSE</td><td></td><td>0</td><td>0</td></tr>\n",
       "\t<tr><th scope=row>3</th><td>Coronavirus 229E</td><td>HCOV-229E</td><td>Ghana</td><td>RNA</td><td>Coronavirus229E.Ghana.csv</td><td>acute</td><td>FALSE</td><td></td><td>0</td><td>0</td></tr>\n",
       "\t<tr><th scope=row>4</th><td>Coxsackievirus A16</td><td>CA16</td><td>China</td><td>RNA</td><td>CoxsackievirusA16.China.csv</td><td>acute</td><td>FALSE</td><td></td><td>0</td><td>0</td></tr>\n",
       "\t<tr><th scope=row>5</th><td>Dengue</td><td>DENV</td><td>South East Asia</td><td>RNA</td><td>DENV1.SouthEastAsia.csv</td><td>acute</td><td>FALSE</td><td></td><td>0</td><td>0</td></tr>\n",
       "\t<tr><th scope=row>6</th><td>Ebola virus</td><td>EBOV</td><td>Liberia</td><td>RNA</td><td>Ebola.Liberia.csv</td><td>acute</td><td>TRUE</td><td></td><td>0</td><td>0</td></tr>\n",
       "</tbody>\n",
       "</table>\n"
      ],
      "text/latex": [
       "\\begin{tabular}{r|llllllllll}\n",
       "  & Virus.Species & Abbreviation & Sampling.Location & Genome & File_Name & infecton_type & clocklike & date_randomisation & rsquared & slopes\\\\\n",
       "\\hline\n",
       "\t1 & Andes virus & ANDV & Brazil & RNA & Andesvirus.Brazil.csv & acute & TRUE & M & 0 & 0\\\\\n",
       "\t2 & Chikungunya virus & CV & South East Asia & RNA & Chikungunya.SouthEastAsia.csv & acute & FALSE &  & 0 & 0\\\\\n",
       "\t3 & Coronavirus 229E & HCOV-229E & Ghana & RNA & Coronavirus229E.Ghana.csv & acute & FALSE &  & 0 & 0\\\\\n",
       "\t4 & Coxsackievirus A16 & CA16 & China & RNA & CoxsackievirusA16.China.csv & acute & FALSE &  & 0 & 0\\\\\n",
       "\t5 & Dengue & DENV & South East Asia & RNA & DENV1.SouthEastAsia.csv & acute & FALSE &  & 0 & 0\\\\\n",
       "\t6 & Ebola virus & EBOV & Liberia & RNA & Ebola.Liberia.csv & acute & TRUE &  & 0 & 0\\\\\n",
       "\\end{tabular}\n"
      ],
      "text/plain": [
       "       Virus.Species Abbreviation Sampling.Location Genome\n",
       "1        Andes virus         ANDV            Brazil    RNA\n",
       "2  Chikungunya virus           CV   South East Asia    RNA\n",
       "3   Coronavirus 229E    HCOV-229E             Ghana    RNA\n",
       "4 Coxsackievirus A16         CA16             China    RNA\n",
       "5             Dengue         DENV   South East Asia    RNA\n",
       "6        Ebola virus         EBOV           Liberia    RNA\n",
       "                      File_Name infecton_type clocklike date_randomisation\n",
       "1         Andesvirus.Brazil.csv         acute      TRUE                  M\n",
       "2 Chikungunya.SouthEastAsia.csv         acute     FALSE                   \n",
       "3     Coronavirus229E.Ghana.csv         acute     FALSE                   \n",
       "4   CoxsackievirusA16.China.csv         acute     FALSE                   \n",
       "5       DENV1.SouthEastAsia.csv         acute     FALSE                   \n",
       "6             Ebola.Liberia.csv         acute      TRUE                   \n",
       "  rsquared slopes\n",
       "1        0      0\n",
       "2        0      0\n",
       "3        0      0\n",
       "4        0      0\n",
       "5        0      0\n",
       "6        0      0"
      ]
     },
     "execution_count": 14,
     "metadata": {},
     "output_type": "execute_result"
    }
   ],
   "source": [
    "file_names$File_Name <- as.character(paste0(file_names$File_Name, '.csv'))\n",
    "\n",
    "file_names$rsquared <- rep(0, nrow(file_names))\n",
    "file_names$slopes <- rep(0, nrow(file_names))\n",
    "head(file_names)"
   ]
  },
  {
   "cell_type": "code",
   "execution_count": null,
   "metadata": {
    "collapsed": true
   },
   "outputs": [],
   "source": []
  },
  {
   "cell_type": "code",
   "execution_count": 40,
   "metadata": {
    "collapsed": false
   },
   "outputs": [
    {
     "name": "stdout",
     "output_type": "stream",
     "text": [
      "[1] \"rooted_Andesvirus.Brazil.csv\" \"ANDV\"                        \n",
      "[1] \"rooted_Chikungunya.SouthEastAsia.csv\"\n",
      "[2] \"CV\"                                  \n",
      "[1] \"rooted_Coronavirus229E.Ghana.csv\" \"HCOV-229E\"                       \n",
      "[1] \"rooted_CoxsackievirusA16.China.csv\" \"CA16\"                              \n",
      "[1] \"rooted_DENV1.SouthEastAsia.csv\" \"DENV\"                          \n",
      "[1] \"rooted_Ebola.Liberia.csv\" \"EBOV\"                    \n",
      "[1] \"rooted_EnterovirusD68.Canada.csv\" \"EV-D68\"                          \n",
      "[1] \"rooted_EVA71.Vietnam.csv\" \"EV-A71\"                  \n",
      "[1] \"rooted_HepatitisCvirus.Scotland.csv\" \"HCV\"                                \n",
      "[1] \"rooted_HIV-1.Brazil.csv\" \"HIV-1\"                  \n",
      "[1] \"rooted_HPV16.Iran.csv\" \"HPV-16\"               \n",
      "[1] \"rooted_HumanadenovirusC.Canada.csv\" \"HAdV-C\"                            \n",
      "[1] \"rooted_Humancytomegalovirus.csv\" \"HCMV\"                           \n",
      "[1] \"rooted_HumanparvovirusB19.Netherlands.csv\"\n",
      "[2] \"HPV-B19\"                                  \n",
      "[1] \"rooted_Humanrespiratorysyncytialvirus.Germany.csv\"\n",
      "[2] \"RSV\"                                              \n",
      "[1] \"rooted_InfluenzaA.Australia.csv\" \"H1N1\"                           \n",
      "[1] \"rooted_InfluenzaA.France.csv\" \"H1N1\"                        \n",
      "[1] \"rooted_InfluenzaA.USA.csv\" \"H1N1\"                     \n",
      "[1] \"rooted_InfluenzaB.Malaysia.csv\" \"InfB\"                          \n",
      "[1] \"rooted_Mamastrovirus1.Singapore.csv\" \"HAstV-1\"                            \n",
      "[1] \"rooted_Measles.China.csv\" \"MeV\"                     \n",
      "[1] \"rooted_MERS.SaudiArabia.csv\" \"MERS-CoV\"                   \n",
      "[1] \"rooted_Norovirus.Vietnam.csv\" \"NOV\"                         \n",
      "[1] \"rooted_Puumalavirus.Germany.csv\" \"PUUV\"                           \n",
      "[1] \"rooted_RhinovirusA.Egypt.csv\" \"RV-A\"                        \n",
      "[1] \"rooted_RhinovirusA.Mongolia.csv\" \"RV-A\"                           \n",
      "[1] \"rooted_RotavirusA.Brazil.csv\" \"ROTA-A\"                      \n",
      "[1] \"rooted_Rubella.Japan.csv\" \"RuV\"                     \n"
     ]
    },
    {
     "data": {
      "text/html": [
       "<strong>pdf:</strong> 2"
      ],
      "text/latex": [
       "\\textbf{pdf:} 2"
      ],
      "text/markdown": [
       "**pdf:** 2"
      ],
      "text/plain": [
       "pdf \n",
       "  2 "
      ]
     },
     "execution_count": 40,
     "metadata": {},
     "output_type": "execute_result"
    }
   ],
   "source": [
    "pdf('regression_plots.pdf', useDingbats = F, width = 10, height = 10)\n",
    "par(mfrow = c(7, 4))\n",
    "par(mar = c(4, 4, 2, 2))\n",
    "for(i in 1:length(regression_files)){\n",
    "    f <- regression_files[i]\n",
    "    reg_data <- read.csv(paste0('ml_trees/', f), head = T)\n",
    "    reg_stats <- lm(tip_heights ~ dates, data = reg_data)\n",
    "\n",
    "    title <- as.character(file_names$Abbreviation[file_names$File_Name == gsub('rooted_', '', f)])\n",
    "    print(c(f, title))\n",
    "    if(reg_stats$coefficients[2] > 0){ #If the slope is positive\n",
    "        origin_time <- -reg_stats$coefficients[1] / reg_stats$coefficients[2]\n",
    "        plot(reg_data$dates, reg_data$tip_heights, main = title, xlim = c(origin_time, max(reg_data$dates)+0.5), \n",
    "             ylim = c(0, max(reg_data$tip_heights)), ylab = '', xlab = '', pch = 20, col = rgb(0, 0, 1, 0.5), \n",
    "            cex = 1.8)\n",
    "        abline(reg_stats)\n",
    "        }else{\n",
    "            plot(reg_data$dates, reg_data$tip_heights, main = title, ylab = '', xlab = '',pch = 20, \n",
    "                 col = rgb(0, 0, 1, 0.5), \n",
    "            cex = 1.8 )\n",
    "            abline(reg_stats)\n",
    "        \n",
    "    }\n",
    "    file_names$rsquared[i] <- summary(reg_stats)$r.squared\n",
    "    file_names$slopes[i] <- reg_stats$coefficients[2]\n",
    "\n",
    "}\n",
    "\n",
    "dev.off()"
   ]
  },
  {
   "cell_type": "code",
   "execution_count": 19,
   "metadata": {
    "collapsed": false
   },
   "outputs": [
    {
     "data": {
      "text/html": [
       "<table>\n",
       "<thead><tr><th></th><th scope=col>Virus.Species</th><th scope=col>Abbreviation</th><th scope=col>Sampling.Location</th><th scope=col>Genome</th><th scope=col>File_Name</th><th scope=col>infecton_type</th><th scope=col>clocklike</th><th scope=col>date_randomisation</th><th scope=col>rsquared</th><th scope=col>slopes</th><th scope=col>number.of.sequences</th><th scope=col>sequence.length</th><th scope=col>variable.sites</th><th scope=col>sampling.time</th></tr></thead>\n",
       "<tbody>\n",
       "\t<tr><th scope=row>1</th><td>Andes virus</td><td>ANDV</td><td>Brazil</td><td>RNA</td><td>Andesvirus.Brazil.csv</td><td>acute</td><td>TRUE</td><td>M</td><td>0.06188426</td><td>0.006482856</td><td>0</td><td>0</td><td>0</td><td>0</td></tr>\n",
       "\t<tr><th scope=row>2</th><td>Chikungunya virus</td><td>CV</td><td>South East Asia</td><td>RNA</td><td>Chikungunya.SouthEastAsia.csv</td><td>acute</td><td>FALSE</td><td></td><td>0.1215737</td><td>0.0002682158</td><td>0</td><td>0</td><td>0</td><td>0</td></tr>\n",
       "\t<tr><th scope=row>3</th><td>Coronavirus 229E</td><td>HCOV-229E</td><td>Ghana</td><td>RNA</td><td>Coronavirus229E.Ghana.csv</td><td>acute</td><td>FALSE</td><td></td><td>0.600651</td><td>-0.01032984</td><td>0</td><td>0</td><td>0</td><td>0</td></tr>\n",
       "\t<tr><th scope=row>4</th><td>Coxsackievirus A16</td><td>CA16</td><td>China</td><td>RNA</td><td>CoxsackievirusA16.China.csv</td><td>acute</td><td>FALSE</td><td></td><td>0.1023143</td><td>0.001730655</td><td>0</td><td>0</td><td>0</td><td>0</td></tr>\n",
       "\t<tr><th scope=row>5</th><td>Dengue</td><td>DENV</td><td>South East Asia</td><td>RNA</td><td>DENV1.SouthEastAsia.csv</td><td>acute</td><td>FALSE</td><td></td><td>0.04733999</td><td>0.0006858294</td><td>0</td><td>0</td><td>0</td><td>0</td></tr>\n",
       "\t<tr><th scope=row>6</th><td>Ebola virus</td><td>EBOV</td><td>Liberia</td><td>RNA</td><td>Ebola.Liberia.csv</td><td>acute</td><td>TRUE</td><td></td><td>0.1670891</td><td>0.0005838361</td><td>0</td><td>0</td><td>0</td><td>0</td></tr>\n",
       "</tbody>\n",
       "</table>\n"
      ],
      "text/latex": [
       "\\begin{tabular}{r|llllllllllllll}\n",
       "  & Virus.Species & Abbreviation & Sampling.Location & Genome & File_Name & infecton_type & clocklike & date_randomisation & rsquared & slopes & number.of.sequences & sequence.length & variable.sites & sampling.time\\\\\n",
       "\\hline\n",
       "\t1 & Andes virus & ANDV & Brazil & RNA & Andesvirus.Brazil.csv & acute & TRUE & M & 0.06188426 & 0.006482856 & 0 & 0 & 0 & 0\\\\\n",
       "\t2 & Chikungunya virus & CV & South East Asia & RNA & Chikungunya.SouthEastAsia.csv & acute & FALSE &  & 0.1215737 & 0.0002682158 & 0 & 0 & 0 & 0\\\\\n",
       "\t3 & Coronavirus 229E & HCOV-229E & Ghana & RNA & Coronavirus229E.Ghana.csv & acute & FALSE &  & 0.600651 & -0.01032984 & 0 & 0 & 0 & 0\\\\\n",
       "\t4 & Coxsackievirus A16 & CA16 & China & RNA & CoxsackievirusA16.China.csv & acute & FALSE &  & 0.1023143 & 0.001730655 & 0 & 0 & 0 & 0\\\\\n",
       "\t5 & Dengue & DENV & South East Asia & RNA & DENV1.SouthEastAsia.csv & acute & FALSE &  & 0.04733999 & 0.0006858294 & 0 & 0 & 0 & 0\\\\\n",
       "\t6 & Ebola virus & EBOV & Liberia & RNA & Ebola.Liberia.csv & acute & TRUE &  & 0.1670891 & 0.0005838361 & 0 & 0 & 0 & 0\\\\\n",
       "\\end{tabular}\n"
      ],
      "text/plain": [
       "       Virus.Species Abbreviation Sampling.Location Genome\n",
       "1        Andes virus         ANDV            Brazil    RNA\n",
       "2  Chikungunya virus           CV   South East Asia    RNA\n",
       "3   Coronavirus 229E    HCOV-229E             Ghana    RNA\n",
       "4 Coxsackievirus A16         CA16             China    RNA\n",
       "5             Dengue         DENV   South East Asia    RNA\n",
       "6        Ebola virus         EBOV           Liberia    RNA\n",
       "                      File_Name infecton_type clocklike date_randomisation\n",
       "1         Andesvirus.Brazil.csv         acute      TRUE                  M\n",
       "2 Chikungunya.SouthEastAsia.csv         acute     FALSE                   \n",
       "3     Coronavirus229E.Ghana.csv         acute     FALSE                   \n",
       "4   CoxsackievirusA16.China.csv         acute     FALSE                   \n",
       "5       DENV1.SouthEastAsia.csv         acute     FALSE                   \n",
       "6             Ebola.Liberia.csv         acute      TRUE                   \n",
       "    rsquared        slopes number.of.sequences sequence.length variable.sites\n",
       "1 0.06188426  0.0064828564                   0               0              0\n",
       "2 0.12157366  0.0002682158                   0               0              0\n",
       "3 0.60065096 -0.0103298415                   0               0              0\n",
       "4 0.10231425  0.0017306552                   0               0              0\n",
       "5 0.04733999  0.0006858294                   0               0              0\n",
       "6 0.16708909  0.0005838361                   0               0              0\n",
       "  sampling.time\n",
       "1             0\n",
       "2             0\n",
       "3             0\n",
       "4             0\n",
       "5             0\n",
       "6             0"
      ]
     },
     "execution_count": 19,
     "metadata": {},
     "output_type": "execute_result"
    }
   ],
   "source": [
    "file_names$number.of.sequences <- rep(0, nrow(file_names))\n",
    "file_names$sequence.length <- rep(0, nrow(file_names))\n",
    "file_names$variable.sites <- rep(0, nrow(file_names))\n",
    "file_names$sampling.time <- rep(0, nrow(file_names))\n",
    "head(file_names)"
   ]
  },
  {
   "cell_type": "code",
   "execution_count": 33,
   "metadata": {
    "collapsed": false
   },
   "outputs": [],
   "source": [
    "for(i in 1:nrow(file_names)){\n",
    "    data <- read_dna(readLines(paste0('alignments/', gsub('[.]csv', '.fasta', file_names$File_Name[i]))))\n",
    "    reg_data <- read.csv(paste0('ml_trees/rooted_', file_names$File_Name[i]), head = T)\n",
    "    file_names[i, c('number.of.sequences', 'sequence.length', 'variable.sites', 'sampling.time')] <- c(nrow(data), ncol(data), \n",
    "                                                                                      length(seg.sites(data)),\n",
    "                                                paste0(round(min(reg_data$dates), 2), '-', round(max(reg_data$dates), 2)))\n",
    "                                                                                                      \n",
    "    \n",
    "}"
   ]
  },
  {
   "cell_type": "code",
   "execution_count": 34,
   "metadata": {
    "collapsed": false
   },
   "outputs": [
    {
     "data": {
      "text/html": [
       "<table>\n",
       "<thead><tr><th></th><th scope=col>Virus.Species</th><th scope=col>Abbreviation</th><th scope=col>Sampling.Location</th><th scope=col>Genome</th><th scope=col>File_Name</th><th scope=col>infecton_type</th><th scope=col>clocklike</th><th scope=col>date_randomisation</th><th scope=col>rsquared</th><th scope=col>slopes</th><th scope=col>number.of.sequences</th><th scope=col>sequence.length</th><th scope=col>variable.sites</th><th scope=col>sampling.time</th></tr></thead>\n",
       "<tbody>\n",
       "\t<tr><th scope=row>1</th><td>Andes virus</td><td>ANDV</td><td>Brazil</td><td>RNA</td><td>Andesvirus.Brazil.csv</td><td>acute</td><td>TRUE</td><td>M</td><td>0.06188426</td><td>0.006482856</td><td>32</td><td>264</td><td>61</td><td>2000.58-2005.58</td></tr>\n",
       "\t<tr><th scope=row>2</th><td>Chikungunya virus</td><td>CV</td><td>South East Asia</td><td>RNA</td><td>Chikungunya.SouthEastAsia.csv</td><td>acute</td><td>FALSE</td><td></td><td>0.1215737</td><td>0.0002682158</td><td>100</td><td>3747</td><td>492</td><td>2005.49-2013.5</td></tr>\n",
       "\t<tr><th scope=row>3</th><td>Coronavirus 229E</td><td>HCOV-229E</td><td>Ghana</td><td>RNA</td><td>Coronavirus229E.Ghana.csv</td><td>acute</td><td>FALSE</td><td></td><td>0.600651</td><td>-0.01032984</td><td>42</td><td>816</td><td>199</td><td>2008-2011</td></tr>\n",
       "\t<tr><th scope=row>4</th><td>Coxsackievirus A16</td><td>CA16</td><td>China</td><td>RNA</td><td>CoxsackievirusA16.China.csv</td><td>acute</td><td>FALSE</td><td></td><td>0.1023143</td><td>0.001730655</td><td>100</td><td>891</td><td>326</td><td>2008.38-2014.67</td></tr>\n",
       "\t<tr><th scope=row>5</th><td>Dengue</td><td>DENV</td><td>South East Asia</td><td>RNA</td><td>DENV1.SouthEastAsia.csv</td><td>acute</td><td>FALSE</td><td></td><td>0.04733999</td><td>0.0006858294</td><td>99</td><td>1485</td><td>453</td><td>2002-2013</td></tr>\n",
       "\t<tr><th scope=row>6</th><td>Ebola virus</td><td>EBOV</td><td>Liberia</td><td>RNA</td><td>Ebola.Liberia.csv</td><td>acute</td><td>TRUE</td><td></td><td>0.1670891</td><td>0.0005838361</td><td>100</td><td>6719</td><td>64</td><td>2014.47-2015</td></tr>\n",
       "\t<tr><th scope=row>7</th><td>Enterovirus A71</td><td>EV-A71</td><td>Vietnam</td><td>RNA</td><td>EVA71.Vietnam.csv</td><td>acute</td><td>TRUE</td><td></td><td>0.01173369</td><td>0.007406288</td><td>100</td><td>875</td><td>153</td><td>2011.66-2012.64</td></tr>\n",
       "\t<tr><th scope=row>8</th><td>Enterovirus D68</td><td>EV-D68</td><td>Canada</td><td>RNA</td><td>EnterovirusD68.Canada.csv</td><td>acute</td><td>TRUE</td><td></td><td>0.06326633</td><td>0.003042569</td><td>100</td><td>768</td><td>131</td><td>2014.74-2014.88</td></tr>\n",
       "\t<tr><th scope=row>9</th><td>Hepatitis C</td><td>HCV</td><td>Scotland</td><td>RNA</td><td>HepatitisCvirus.Scotland.csv</td><td>chronic</td><td>FALSE</td><td></td><td>0.07358258</td><td>0.01161592</td><td>100</td><td>564</td><td>242</td><td>2011-2014</td></tr>\n",
       "\t<tr><th scope=row>10</th><td>Human adenovirus C</td><td>HAdV-C</td><td>Canada</td><td>DNA</td><td>HumanadenovirusC.Canada.csv</td><td>chronic</td><td>FALSE</td><td></td><td>0.002769488</td><td>0.003090304</td><td>78</td><td>623</td><td>377</td><td>2008.94-2010.28</td></tr>\n",
       "\t<tr><th scope=row>11</th><td>Human cytomegalovirus</td><td>HCMV</td><td>Spain</td><td>DNA</td><td>Humancytomegalovirus.csv</td><td>chronic</td><td>FALSE</td><td></td><td>0.005540499</td><td>-5.088309e-05</td><td>100</td><td>531</td><td>177</td><td>2003.04-2014.83</td></tr>\n",
       "\t<tr><th scope=row>12</th><td>Human immunodeficiency virus 1</td><td>HIV-1</td><td>Brazil</td><td>RNA</td><td>HIV-1.Brazil.csv</td><td>chronic</td><td>FALSE</td><td></td><td>0.09831374</td><td>0.02852919</td><td>100</td><td>1377</td><td>824</td><td>2009-2014</td></tr>\n",
       "\t<tr><th scope=row>13</th><td>Human Papillomavirus 16</td><td>HPV-16</td><td>Iran</td><td>DNA</td><td>HPV16.Iran.csv</td><td>chronic</td><td>TRUE</td><td></td><td>0.0003922786</td><td>0.0001982824</td><td>58</td><td>1518</td><td>24</td><td>2013.04-2013.82</td></tr>\n",
       "\t<tr><th scope=row>14</th><td>Human parvovirus B19</td><td>HPV-B19</td><td>Netherlands</td><td>DNA</td><td>HumanparvovirusB19.Netherlands.csv</td><td>acute</td><td>FALSE</td><td></td><td>0.2504781</td><td>0.0003728679</td><td>65</td><td>2320</td><td>263</td><td>2003.17-2009.58</td></tr>\n",
       "\t<tr><th scope=row>15</th><td>Human respiratory syncytial virus</td><td>RSV</td><td>Germany</td><td>RNA</td><td>Humanrespiratorysyncytialvirus.Germany.csv</td><td>acute</td><td>TRUE</td><td></td><td>0.3884824</td><td>0.00276565</td><td>100</td><td>270</td><td>117</td><td>2000.03-2007.21</td></tr>\n",
       "\t<tr><th scope=row>16</th><td>Influenza A</td><td>H1N1</td><td>Australia</td><td>RNA</td><td>InfluenzaA.Australia.csv</td><td>acute</td><td>FALSE</td><td></td><td>0.7158732</td><td>0.001619856</td><td>100</td><td>1457</td><td>458</td><td>1999-2011.64</td></tr>\n",
       "\t<tr><th scope=row>17</th><td>Influenza A</td><td>H1N1</td><td>France</td><td>RNA</td><td>InfluenzaA.France.csv</td><td>acute</td><td>FALSE</td><td></td><td>0.5112031</td><td>0.002251951</td><td>53</td><td>1462</td><td>394</td><td>2004-2011</td></tr>\n",
       "\t<tr><th scope=row>18</th><td>Influenza A</td><td>H1N1</td><td>USA</td><td>RNA</td><td>InfluenzaA.USA.csv</td><td>acute</td><td>FALSE</td><td></td><td>0.7461245</td><td>-0.06477141</td><td>92</td><td>1434</td><td>840</td><td>2004.94-2014.81</td></tr>\n",
       "\t<tr><th scope=row>19</th><td>Influenza B</td><td>InfB</td><td>Malaysia</td><td>RNA</td><td>InfluenzaB.Malaysia.csv</td><td>acute</td><td>FALSE</td><td></td><td>0.7733667</td><td>0.002185803</td><td>75</td><td>2335</td><td>307</td><td>2000.01-2008.01</td></tr>\n",
       "\t<tr><th scope=row>20</th><td>Mamastrovirus 1</td><td>HAstV-1</td><td>Singapore</td><td>RNA</td><td>Mamastrovirus1.Singapore.csv</td><td>acute</td><td>FALSE</td><td></td><td>0.0762499</td><td>0.02850086</td><td>84</td><td>373</td><td>133</td><td>2006.47-2009.05</td></tr>\n",
       "\t<tr><th scope=row>21</th><td>Measles</td><td>MeV</td><td>China</td><td>RNA</td><td>Measles.China.csv</td><td>acute</td><td>TRUE</td><td></td><td>0.117854</td><td>-0.0008459966</td><td>100</td><td>456</td><td>122</td><td>2009.14-2015.43</td></tr>\n",
       "\t<tr><th scope=row>22</th><td>Middle East respiratory syndrome coronavirus</td><td>MERS-CoV</td><td>Saudi Arabia</td><td>RNA</td><td>MERS.SaudiArabia.csv</td><td>acute</td><td>FALSE</td><td></td><td>0.3428572</td><td>0.000728554</td><td>49</td><td>4065</td><td>72</td><td>2012.47-2015.07</td></tr>\n",
       "\t<tr><th scope=row>23</th><td>Norovirus</td><td>NOV</td><td>Vietman</td><td>RNA</td><td>Norovirus.Vietnam.csv</td><td>acute</td><td>TRUE</td><td></td><td>0.2008362</td><td>0.00493761</td><td>97</td><td>1623</td><td>345</td><td>2009.18-2010.32</td></tr>\n",
       "\t<tr><th scope=row>24</th><td>Puumala virus</td><td>PUUV</td><td>Germany</td><td>RNA</td><td>Puumalavirus.Germany.csv</td><td>acute</td><td>TRUE</td><td></td><td>0.1433351</td><td>-0.0006222324</td><td>100</td><td>336</td><td>38</td><td>2005-2012</td></tr>\n",
       "\t<tr><th scope=row>25</th><td>Rhinovirus A</td><td>RV-A</td><td>Egypt</td><td>RNA</td><td>RhinovirusA.Egypt.csv</td><td>acute</td><td>FALSE</td><td></td><td>4.97832e-05</td><td>-0.01211546</td><td>85</td><td>420</td><td>199</td><td>2010-2010.92</td></tr>\n",
       "\t<tr><th scope=row>26</th><td>Rhinovirus A</td><td>RV-A</td><td>Mongolia</td><td>RNA</td><td>RhinovirusA.Mongolia.csv</td><td>acute</td><td>TRUE</td><td></td><td>0.001673146</td><td>0.0100039</td><td>52</td><td>435</td><td>217</td><td>2010.47-2013.23</td></tr>\n",
       "\t<tr><th scope=row>27</th><td>Rotavirus A</td><td>ROTA-A</td><td>Brazil</td><td>RNA</td><td>RotavirusA.Brazil.csv</td><td>acute</td><td>TRUE</td><td></td><td>0.05311451</td><td>0.0005349001</td><td>100</td><td>879</td><td>219</td><td>2001-2011</td></tr>\n",
       "\t<tr><th scope=row>28</th><td>Rubella</td><td>RuV</td><td>Japan</td><td>RNA</td><td>Rubella.Japan.csv</td><td>acute</td><td>TRUE</td><td></td><td>0.0737637</td><td>-0.001708651</td><td>100</td><td>739</td><td>131</td><td>2010.54-2015.29</td></tr>\n",
       "</tbody>\n",
       "</table>\n"
      ],
      "text/latex": [
       "\\begin{tabular}{r|llllllllllllll}\n",
       "  & Virus.Species & Abbreviation & Sampling.Location & Genome & File_Name & infecton_type & clocklike & date_randomisation & rsquared & slopes & number.of.sequences & sequence.length & variable.sites & sampling.time\\\\\n",
       "\\hline\n",
       "\t1 & Andes virus & ANDV & Brazil & RNA & Andesvirus.Brazil.csv & acute & TRUE & M & 0.06188426 & 0.006482856 & 32 & 264 & 61 & 2000.58-2005.58\\\\\n",
       "\t2 & Chikungunya virus & CV & South East Asia & RNA & Chikungunya.SouthEastAsia.csv & acute & FALSE &  & 0.1215737 & 0.0002682158 & 100 & 3747 & 492 & 2005.49-2013.5\\\\\n",
       "\t3 & Coronavirus 229E & HCOV-229E & Ghana & RNA & Coronavirus229E.Ghana.csv & acute & FALSE &  & 0.600651 & -0.01032984 & 42 & 816 & 199 & 2008-2011\\\\\n",
       "\t4 & Coxsackievirus A16 & CA16 & China & RNA & CoxsackievirusA16.China.csv & acute & FALSE &  & 0.1023143 & 0.001730655 & 100 & 891 & 326 & 2008.38-2014.67\\\\\n",
       "\t5 & Dengue & DENV & South East Asia & RNA & DENV1.SouthEastAsia.csv & acute & FALSE &  & 0.04733999 & 0.0006858294 & 99 & 1485 & 453 & 2002-2013\\\\\n",
       "\t6 & Ebola virus & EBOV & Liberia & RNA & Ebola.Liberia.csv & acute & TRUE &  & 0.1670891 & 0.0005838361 & 100 & 6719 & 64 & 2014.47-2015\\\\\n",
       "\t7 & Enterovirus A71 & EV-A71 & Vietnam & RNA & EVA71.Vietnam.csv & acute & TRUE &  & 0.01173369 & 0.007406288 & 100 & 875 & 153 & 2011.66-2012.64\\\\\n",
       "\t8 & Enterovirus D68 & EV-D68 & Canada & RNA & EnterovirusD68.Canada.csv & acute & TRUE &  & 0.06326633 & 0.003042569 & 100 & 768 & 131 & 2014.74-2014.88\\\\\n",
       "\t9 & Hepatitis C & HCV & Scotland & RNA & HepatitisCvirus.Scotland.csv & chronic & FALSE &  & 0.07358258 & 0.01161592 & 100 & 564 & 242 & 2011-2014\\\\\n",
       "\t10 & Human adenovirus C & HAdV-C & Canada & DNA & HumanadenovirusC.Canada.csv & chronic & FALSE &  & 0.002769488 & 0.003090304 & 78 & 623 & 377 & 2008.94-2010.28\\\\\n",
       "\t11 & Human cytomegalovirus & HCMV & Spain & DNA & Humancytomegalovirus.csv & chronic & FALSE &  & 0.005540499 & -5.088309e-05 & 100 & 531 & 177 & 2003.04-2014.83\\\\\n",
       "\t12 & Human immunodeficiency virus 1 & HIV-1 & Brazil & RNA & HIV-1.Brazil.csv & chronic & FALSE &  & 0.09831374 & 0.02852919 & 100 & 1377 & 824 & 2009-2014\\\\\n",
       "\t13 & Human Papillomavirus 16 & HPV-16 & Iran & DNA & HPV16.Iran.csv & chronic & TRUE &  & 0.0003922786 & 0.0001982824 & 58 & 1518 & 24 & 2013.04-2013.82\\\\\n",
       "\t14 & Human parvovirus B19 & HPV-B19 & Netherlands & DNA & HumanparvovirusB19.Netherlands.csv & acute & FALSE &  & 0.2504781 & 0.0003728679 & 65 & 2320 & 263 & 2003.17-2009.58\\\\\n",
       "\t15 & Human respiratory syncytial virus & RSV & Germany & RNA & Humanrespiratorysyncytialvirus.Germany.csv & acute & TRUE &  & 0.3884824 & 0.00276565 & 100 & 270 & 117 & 2000.03-2007.21\\\\\n",
       "\t16 & Influenza A & H1N1 & Australia & RNA & InfluenzaA.Australia.csv & acute & FALSE &  & 0.7158732 & 0.001619856 & 100 & 1457 & 458 & 1999-2011.64\\\\\n",
       "\t17 & Influenza A & H1N1 & France & RNA & InfluenzaA.France.csv & acute & FALSE &  & 0.5112031 & 0.002251951 & 53 & 1462 & 394 & 2004-2011\\\\\n",
       "\t18 & Influenza A & H1N1 & USA & RNA & InfluenzaA.USA.csv & acute & FALSE &  & 0.7461245 & -0.06477141 & 92 & 1434 & 840 & 2004.94-2014.81\\\\\n",
       "\t19 & Influenza B & InfB & Malaysia & RNA & InfluenzaB.Malaysia.csv & acute & FALSE &  & 0.7733667 & 0.002185803 & 75 & 2335 & 307 & 2000.01-2008.01\\\\\n",
       "\t20 & Mamastrovirus 1 & HAstV-1 & Singapore & RNA & Mamastrovirus1.Singapore.csv & acute & FALSE &  & 0.0762499 & 0.02850086 & 84 & 373 & 133 & 2006.47-2009.05\\\\\n",
       "\t21 & Measles & MeV & China & RNA & Measles.China.csv & acute & TRUE &  & 0.117854 & -0.0008459966 & 100 & 456 & 122 & 2009.14-2015.43\\\\\n",
       "\t22 & Middle East respiratory syndrome coronavirus & MERS-CoV & Saudi Arabia & RNA & MERS.SaudiArabia.csv & acute & FALSE &  & 0.3428572 & 0.000728554 & 49 & 4065 & 72 & 2012.47-2015.07\\\\\n",
       "\t23 & Norovirus & NOV & Vietman & RNA & Norovirus.Vietnam.csv & acute & TRUE &  & 0.2008362 & 0.00493761 & 97 & 1623 & 345 & 2009.18-2010.32\\\\\n",
       "\t24 & Puumala virus & PUUV & Germany & RNA & Puumalavirus.Germany.csv & acute & TRUE &  & 0.1433351 & -0.0006222324 & 100 & 336 & 38 & 2005-2012\\\\\n",
       "\t25 & Rhinovirus A & RV-A & Egypt & RNA & RhinovirusA.Egypt.csv & acute & FALSE &  & 4.97832e-05 & -0.01211546 & 85 & 420 & 199 & 2010-2010.92\\\\\n",
       "\t26 & Rhinovirus A & RV-A & Mongolia & RNA & RhinovirusA.Mongolia.csv & acute & TRUE &  & 0.001673146 & 0.0100039 & 52 & 435 & 217 & 2010.47-2013.23\\\\\n",
       "\t27 & Rotavirus A & ROTA-A & Brazil & RNA & RotavirusA.Brazil.csv & acute & TRUE &  & 0.05311451 & 0.0005349001 & 100 & 879 & 219 & 2001-2011\\\\\n",
       "\t28 & Rubella & RuV & Japan & RNA & Rubella.Japan.csv & acute & TRUE &  & 0.0737637 & -0.001708651 & 100 & 739 & 131 & 2010.54-2015.29\\\\\n",
       "\\end{tabular}\n"
      ],
      "text/plain": [
       "                                  Virus.Species Abbreviation Sampling.Location\n",
       "1                                   Andes virus         ANDV            Brazil\n",
       "2                             Chikungunya virus           CV   South East Asia\n",
       "3                              Coronavirus 229E    HCOV-229E             Ghana\n",
       "4                            Coxsackievirus A16         CA16             China\n",
       "5                                        Dengue         DENV   South East Asia\n",
       "6                                   Ebola virus         EBOV           Liberia\n",
       "7                               Enterovirus A71       EV-A71           Vietnam\n",
       "8                               Enterovirus D68       EV-D68            Canada\n",
       "9                                   Hepatitis C          HCV          Scotland\n",
       "10                           Human adenovirus C       HAdV-C            Canada\n",
       "11                        Human cytomegalovirus         HCMV             Spain\n",
       "12               Human immunodeficiency virus 1        HIV-1            Brazil\n",
       "13                      Human Papillomavirus 16       HPV-16              Iran\n",
       "14                         Human parvovirus B19      HPV-B19       Netherlands\n",
       "15            Human respiratory syncytial virus          RSV           Germany\n",
       "16                                  Influenza A         H1N1         Australia\n",
       "17                                  Influenza A         H1N1            France\n",
       "18                                  Influenza A         H1N1               USA\n",
       "19                                  Influenza B         InfB          Malaysia\n",
       "20                              Mamastrovirus 1      HAstV-1         Singapore\n",
       "21                                      Measles          MeV             China\n",
       "22 Middle East respiratory syndrome coronavirus     MERS-CoV      Saudi Arabia\n",
       "23                                    Norovirus          NOV           Vietman\n",
       "24                                Puumala virus         PUUV           Germany\n",
       "25                                 Rhinovirus A         RV-A             Egypt\n",
       "26                                 Rhinovirus A         RV-A          Mongolia\n",
       "27                                  Rotavirus A       ROTA-A            Brazil\n",
       "28                                      Rubella          RuV             Japan\n",
       "   Genome                                  File_Name infecton_type clocklike\n",
       "1     RNA                      Andesvirus.Brazil.csv         acute      TRUE\n",
       "2     RNA              Chikungunya.SouthEastAsia.csv         acute     FALSE\n",
       "3     RNA                  Coronavirus229E.Ghana.csv         acute     FALSE\n",
       "4     RNA                CoxsackievirusA16.China.csv         acute     FALSE\n",
       "5     RNA                    DENV1.SouthEastAsia.csv         acute     FALSE\n",
       "6     RNA                          Ebola.Liberia.csv         acute      TRUE\n",
       "7     RNA                          EVA71.Vietnam.csv         acute      TRUE\n",
       "8     RNA                  EnterovirusD68.Canada.csv         acute      TRUE\n",
       "9     RNA               HepatitisCvirus.Scotland.csv       chronic     FALSE\n",
       "10    DNA                HumanadenovirusC.Canada.csv       chronic     FALSE\n",
       "11    DNA                   Humancytomegalovirus.csv       chronic     FALSE\n",
       "12    RNA                           HIV-1.Brazil.csv       chronic     FALSE\n",
       "13    DNA                             HPV16.Iran.csv       chronic      TRUE\n",
       "14    DNA         HumanparvovirusB19.Netherlands.csv         acute     FALSE\n",
       "15    RNA Humanrespiratorysyncytialvirus.Germany.csv         acute      TRUE\n",
       "16    RNA                   InfluenzaA.Australia.csv         acute     FALSE\n",
       "17    RNA                      InfluenzaA.France.csv         acute     FALSE\n",
       "18    RNA                         InfluenzaA.USA.csv         acute     FALSE\n",
       "19    RNA                    InfluenzaB.Malaysia.csv         acute     FALSE\n",
       "20    RNA               Mamastrovirus1.Singapore.csv         acute     FALSE\n",
       "21    RNA                          Measles.China.csv         acute      TRUE\n",
       "22    RNA                       MERS.SaudiArabia.csv         acute     FALSE\n",
       "23    RNA                      Norovirus.Vietnam.csv         acute      TRUE\n",
       "24    RNA                   Puumalavirus.Germany.csv         acute      TRUE\n",
       "25    RNA                      RhinovirusA.Egypt.csv         acute     FALSE\n",
       "26    RNA                   RhinovirusA.Mongolia.csv         acute      TRUE\n",
       "27    RNA                      RotavirusA.Brazil.csv         acute      TRUE\n",
       "28    RNA                          Rubella.Japan.csv         acute      TRUE\n",
       "   date_randomisation     rsquared        slopes number.of.sequences\n",
       "1                   M 0.0618842567  6.482856e-03                  32\n",
       "2                     0.1215736566  2.682158e-04                 100\n",
       "3                     0.6006509636 -1.032984e-02                  42\n",
       "4                     0.1023142534  1.730655e-03                 100\n",
       "5                     0.0473399940  6.858294e-04                  99\n",
       "6                     0.1670890948  5.838361e-04                 100\n",
       "7                     0.0117336914  7.406288e-03                 100\n",
       "8                     0.0632663303  3.042569e-03                 100\n",
       "9                     0.0735825767  1.161592e-02                 100\n",
       "10                    0.0027694878  3.090304e-03                  78\n",
       "11                    0.0055404985 -5.088309e-05                 100\n",
       "12                    0.0983137396  2.852919e-02                 100\n",
       "13                    0.0003922786  1.982824e-04                  58\n",
       "14                    0.2504780931  3.728679e-04                  65\n",
       "15                    0.3884823695  2.765650e-03                 100\n",
       "16                    0.7158731656  1.619856e-03                 100\n",
       "17                    0.5112031041  2.251951e-03                  53\n",
       "18                    0.7461245353 -6.477141e-02                  92\n",
       "19                    0.7733667486  2.185803e-03                  75\n",
       "20                    0.0762499041  2.850086e-02                  84\n",
       "21                    0.1178539652 -8.459966e-04                 100\n",
       "22                    0.3428571612  7.285540e-04                  49\n",
       "23                    0.2008361927  4.937610e-03                  97\n",
       "24                    0.1433351295 -6.222324e-04                 100\n",
       "25                    0.0000497832 -1.211546e-02                  85\n",
       "26                    0.0016731462  1.000390e-02                  52\n",
       "27                    0.0531145142  5.349001e-04                 100\n",
       "28                    0.0737637003 -1.708651e-03                 100\n",
       "   sequence.length variable.sites   sampling.time\n",
       "1              264             61 2000.58-2005.58\n",
       "2             3747            492  2005.49-2013.5\n",
       "3              816            199       2008-2011\n",
       "4              891            326 2008.38-2014.67\n",
       "5             1485            453       2002-2013\n",
       "6             6719             64    2014.47-2015\n",
       "7              875            153 2011.66-2012.64\n",
       "8              768            131 2014.74-2014.88\n",
       "9              564            242       2011-2014\n",
       "10             623            377 2008.94-2010.28\n",
       "11             531            177 2003.04-2014.83\n",
       "12            1377            824       2009-2014\n",
       "13            1518             24 2013.04-2013.82\n",
       "14            2320            263 2003.17-2009.58\n",
       "15             270            117 2000.03-2007.21\n",
       "16            1457            458    1999-2011.64\n",
       "17            1462            394       2004-2011\n",
       "18            1434            840 2004.94-2014.81\n",
       "19            2335            307 2000.01-2008.01\n",
       "20             373            133 2006.47-2009.05\n",
       "21             456            122 2009.14-2015.43\n",
       "22            4065             72 2012.47-2015.07\n",
       "23            1623            345 2009.18-2010.32\n",
       "24             336             38       2005-2012\n",
       "25             420            199    2010-2010.92\n",
       "26             435            217 2010.47-2013.23\n",
       "27             879            219       2001-2011\n",
       "28             739            131 2010.54-2015.29"
      ]
     },
     "execution_count": 34,
     "metadata": {},
     "output_type": "execute_result"
    }
   ],
   "source": [
    "file_names"
   ]
  },
  {
   "cell_type": "code",
   "execution_count": 35,
   "metadata": {
    "collapsed": false
   },
   "outputs": [],
   "source": [
    "write.table(file_names, file = 'Table_1.csv', sep = ',', row.names = F)"
   ]
  },
  {
   "cell_type": "code",
   "execution_count": null,
   "metadata": {
    "collapsed": true
   },
   "outputs": [],
   "source": []
  }
 ],
 "metadata": {
  "kernelspec": {
   "display_name": "R",
   "language": "R",
   "name": "ir"
  },
  "language_info": {
   "codemirror_mode": "r",
   "file_extension": ".r",
   "mimetype": "text/x-r-source",
   "name": "R",
   "pygments_lexer": "r",
   "version": "3.2.2"
  }
 },
 "nbformat": 4,
 "nbformat_minor": 0
}
